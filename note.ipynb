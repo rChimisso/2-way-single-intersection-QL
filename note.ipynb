{
 "cells": [
  {
   "cell_type": "code",
   "execution_count": null,
   "metadata": {},
   "outputs": [],
   "source": [
    "%matplotlib inline\n",
    "from traffic.agent import TrafficAgent, FixedCycleTrafficAgent, QLearningTrafficAgent, DeepQLearningTrafficAgent\n",
    "from traffic.environment import TrafficEnvironment\n",
    "from utils.plotter import MultiPlotter, PlotData\n",
    "from warnings import filterwarnings\n",
    "\n",
    "filterwarnings('ignore')\n",
    "\n",
    "plot_data = PlotData(\n",
    "  [\n",
    "    'system_total_stopped',\n",
    "    'system_total_waiting_time',\n",
    "    'system_mean_waiting_time',\n",
    "    'system_mean_speed'\n",
    "  ],\n",
    "  1,\n",
    "  100\n",
    ")\n",
    "\n",
    "traffic_env = TrafficEnvironment(\n",
    "  net = 'nets/2way-single-intersection/single-intersection.net.xml',\n",
    "  rou = 'nets/2way-single-intersection/single-intersection-vhvh.rou.xml',\n",
    "  seconds = 100,\n",
    "  delta_time = 4,\n",
    "  yellow_time = 3,\n",
    "  min_green = 5,\n",
    "  max_green = 30\n",
    ")\n",
    "\n",
    "agents: dict[str, TrafficAgent] = {\n",
    "  'fixedcycle': FixedCycleTrafficAgent(\n",
    "    'fixedcycle',\n",
    "    '#aa0000',\n",
    "    traffic_env,\n",
    "    plot_data\n",
    "  ),\n",
    "  'qlearning': QLearningTrafficAgent(\n",
    "    'qlearning',\n",
    "    '#00aa00',\n",
    "    traffic_env,\n",
    "    alpha = 0.1,\n",
    "    gamma = 0.99,\n",
    "    init_eps = 1,\n",
    "    min_eps = 0.005,\n",
    "    decay = 0.9,\n",
    "    plot_data = plot_data\n",
    "  ),\n",
    "  'deepqlearning': DeepQLearningTrafficAgent(\n",
    "    'deepqlearning',\n",
    "    '#0000aa',\n",
    "    traffic_env,\n",
    "    alpha = 0.1,\n",
    "    gamma = 0.99,\n",
    "    init_eps = 1,\n",
    "    min_eps = 0.005,\n",
    "    decay_time = 0.2,\n",
    "    plot_data = plot_data\n",
    "  )\n",
    "}\n",
    "\n",
    "multi_plotter = MultiPlotter(list(map(lambda agent: {'name': agent.name, 'color': agent.color}, list(agents.values()))), plot_data)\n",
    "\n",
    "for agent in agents:\n",
    "  agents[agent].run(multi_plotter.append, use_gui = False)\n",
    "\n",
    "# agents['fixedcycle'].run(multi_plotter.append, load_path = '')\n",
    "# agents['qlearning'].run(multi_plotter.append, load_path = 'outputs/qlearning/saves/')\n",
    "# agents['deepqlearning'].run(multi_plotter.append, load_path = 'outputs/deepqlearning/saves/')\n",
    "\n",
    "multi_plotter.save()"
   ]
  }
 ],
 "metadata": {
  "kernelspec": {
   "display_name": "base",
   "language": "python",
   "name": "python3"
  },
  "language_info": {
   "codemirror_mode": {
    "name": "ipython",
    "version": 3
   },
   "file_extension": ".py",
   "mimetype": "text/x-python",
   "name": "python",
   "nbconvert_exporter": "python",
   "pygments_lexer": "ipython3",
   "version": "3.9.13"
  },
  "orig_nbformat": 4,
  "vscode": {
   "interpreter": {
    "hash": "e0d86bde9ad9c10c7d1cedfc01809e1f014a5f3435ffaada6125cd9a8e669da3"
   }
  }
 },
 "nbformat": 4,
 "nbformat_minor": 2
}
