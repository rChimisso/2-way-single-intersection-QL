{
 "cells": [
  {
   "cell_type": "code",
   "execution_count": 1,
   "metadata": {},
   "outputs": [
    {
     "name": "stdout",
     "output_type": "stream",
     "text": [
      "2023-02-25 15:58:51 Learning for agent fixedcycle.\n",
      "2023-02-25 15:58:51 Run #1.\n"
     ]
    },
    {
     "name": "stderr",
     "output_type": "stream",
     "text": [
      "c:\\Users\\alberto\\anaconda3\\lib\\site-packages\\numpy\\core\\fromnumeric.py:3440: RuntimeWarning: Mean of empty slice.\n",
      "  return _methods._mean(a, axis=axis, dtype=dtype,\n",
      "c:\\Users\\alberto\\anaconda3\\lib\\site-packages\\numpy\\core\\_methods.py:189: RuntimeWarning: invalid value encountered in double_scalars\n",
      "  ret = ret.dtype.type(ret / rcount)\n"
     ]
    },
    {
     "name": "stdout",
     "output_type": "stream",
     "text": [
      "2023-02-25 15:58:54 Running agent fixedcycle.\n",
      "2023-02-25 15:58:54 Run #1.\n"
     ]
    },
    {
     "name": "stderr",
     "output_type": "stream",
     "text": [
      "c:\\Users\\alberto\\anaconda3\\lib\\site-packages\\numpy\\core\\fromnumeric.py:3440: RuntimeWarning: Mean of empty slice.\n",
      "  return _methods._mean(a, axis=axis, dtype=dtype,\n",
      "c:\\Users\\alberto\\anaconda3\\lib\\site-packages\\numpy\\core\\_methods.py:189: RuntimeWarning: invalid value encountered in double_scalars\n",
      "  ret = ret.dtype.type(ret / rcount)\n"
     ]
    }
   ],
   "source": [
    "%matplotlib inline\n",
    "\n",
    "from utils.runner import RunsConfig, Runner\n",
    "from utils.plotter import CanvasConfig\n",
    "from traffic.environment import TrafficEnvironment\n",
    "from traffic.agent import FixedCycleTrafficAgent, QLTrafficAgent, DQLTrafficAgent\n",
    "\n",
    "canvas_config = CanvasConfig(\n",
    "  [\n",
    "    'system_total_stopped',\n",
    "    'system_total_waiting_time',\n",
    "    'system_mean_waiting_time',\n",
    "    'system_mean_speed'\n",
    "  ],\n",
    "  1,\n",
    "  100\n",
    ")\n",
    "\n",
    "traffic_env = TrafficEnvironment(\n",
    "  net = '2wsi/2wsi.net.xml',\n",
    "  rou = '2wsi/2wsi-2.rou.xml',\n",
    "  seconds = 1000,\n",
    "  delta_time = 10,\n",
    "  yellow_time = 4,\n",
    "  min_green = 10,\n",
    "  max_green = 50\n",
    ")\n",
    "\n",
    "configs: list[RunsConfig] = [\n",
    "  {\n",
    "    'cls': FixedCycleTrafficAgent,\n",
    "    'configs': [\n",
    "      {\n",
    "        'name': 'fixedcycle',\n",
    "        'repeat': 1,\n",
    "        'color': '#330000'\n",
    "      }\n",
    "    ]\n",
    "  },\n",
    "  {\n",
    "    'cls': QLTrafficAgent,\n",
    "    'configs': [\n",
    "      {\n",
    "        'name': 'ql_1',\n",
    "        'repeat': 3,\n",
    "        'color': '#00a5ff',\n",
    "        'alpha': 0.1,\n",
    "        'gamma': 0.75,\n",
    "        'init_eps': 1,\n",
    "        'min_eps': 0.01,\n",
    "        'decay': 0.9996\n",
    "      },\n",
    "      {\n",
    "        'name': 'ql_3',\n",
    "        'repeat': 3,\n",
    "        'color': '#a5a5a5',\n",
    "        'alpha': 0.1,\n",
    "        'gamma': 0.9,\n",
    "        'init_eps': 1,\n",
    "        'min_eps': 0.01,\n",
    "        'decay': 0.9996\n",
    "      }\n",
    "    ]\n",
    "  },\n",
    "  {\n",
    "    'cls': DQLTrafficAgent,\n",
    "    'configs': [\n",
    "      {\n",
    "        'name': 'dql_1',\n",
    "        'repeat': 3,\n",
    "        'color': '#660eff',\n",
    "        'alpha': 0.1,\n",
    "        'gamma': 0.75,\n",
    "        'init_eps': 1,\n",
    "        'min_eps': 0.01,\n",
    "        'decay': 0.99\n",
    "      },\n",
    "      {\n",
    "        'name': 'dql_3',\n",
    "        'repeat': 3,\n",
    "        'color': '#2eff33',\n",
    "        'alpha': 0.1,\n",
    "        'gamma': 0.9,\n",
    "        'init_eps': 1,\n",
    "        'min_eps': 0.01,\n",
    "        'decay': 0.99\n",
    "      }\n",
    "    ]\n",
    "  }\n",
    "]\n",
    "\n",
    "runner = Runner(canvas_config, traffic_env, configs)\n",
    "\n",
    "runner.run(runner.learn(), 1000, True)"
   ]
  }
 ],
 "metadata": {
  "kernelspec": {
   "display_name": "base",
   "language": "python",
   "name": "python3"
  },
  "language_info": {
   "codemirror_mode": {
    "name": "ipython",
    "version": 3
   },
   "file_extension": ".py",
   "mimetype": "text/x-python",
   "name": "python",
   "nbconvert_exporter": "python",
   "pygments_lexer": "ipython3",
   "version": "3.9.13"
  },
  "orig_nbformat": 4,
  "vscode": {
   "interpreter": {
    "hash": "01662fe3ffae6cad2b6e44c4c942ce0297e9568e04267adea32804ff3426475b"
   }
  }
 },
 "nbformat": 4,
 "nbformat_minor": 2
}
