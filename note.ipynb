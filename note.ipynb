{
 "cells": [
  {
   "cell_type": "code",
   "execution_count": 1,
   "metadata": {},
   "outputs": [],
   "source": [
    "%matplotlib inline\n",
    "from test2 import execution, agents\n",
    "\n",
    "for agent in agents:\n",
    "  execution(agent, agents[agent]['color'], agents[agent]['fixed'])"
   ]
  }
 ],
 "metadata": {
  "kernelspec": {
   "display_name": "Python 3",
   "language": "python",
   "name": "python3"
  },
  "language_info": {
   "codemirror_mode": {
    "name": "ipython",
    "version": 3
   },
   "file_extension": ".py",
   "mimetype": "text/x-python",
   "name": "python",
   "nbconvert_exporter": "python",
   "pygments_lexer": "ipython3",
   "version": "3.11.1"
  },
  "orig_nbformat": 4,
  "vscode": {
   "interpreter": {
    "hash": "d5a2ad0f660ad938b4b50060c0bc46d8447e20a05f84eabc69837b394f9b51f9"
   }
  }
 },
 "nbformat": 4,
 "nbformat_minor": 2
}
