{
 "cells": [
  {
   "cell_type": "code",
   "execution_count": null,
   "metadata": {},
   "outputs": [],
   "source": [
    "%matplotlib inline\n",
    "from agents.trafficagent import TrafficAgent, FixedCycleTrafficAgent, QLearningTrafficAgent, DeepQLearningTrafficAgent\n",
    "from utils.plotter import Metric, MultiPlotter\n",
    "\n",
    "seconds = 100\n",
    "\n",
    "agents: dict[str, TrafficAgent] = {\n",
    "  'fixedcycle': FixedCycleTrafficAgent(\n",
    "    'fixedcycle',\n",
    "    '#aa0000',\n",
    "    'nets/single-intersection/single-intersection.net.xml',\n",
    "    'nets/single-intersection/single-intersection.rou.xml',\n",
    "    seconds,\n",
    "    5,\n",
    "    3,\n",
    "    5,\n",
    "    30\n",
    "  ),\n",
    "  'qlearning': QLearningTrafficAgent(\n",
    "    'qlearning',\n",
    "    '#00aa00',\n",
    "    'nets/single-intersection/single-intersection.net.xml',\n",
    "    'nets/single-intersection/single-intersection.rou.xml',\n",
    "    seconds,\n",
    "    5,\n",
    "    3,\n",
    "    5,\n",
    "    30\n",
    "  ),\n",
    "  'deepqlearning': DeepQLearningTrafficAgent(\n",
    "    'deepqlearning',\n",
    "    '#0000aa',\n",
    "    'nets/single-intersection/single-intersection.net.xml',\n",
    "    'nets/single-intersection/single-intersection.rou.xml',\n",
    "    seconds,\n",
    "    5,\n",
    "    3,\n",
    "    5,\n",
    "    30\n",
    "  )\n",
    "}\n",
    "metrics: list[Metric] = [\n",
    "  'system_total_stopped',\n",
    "  'system_total_waiting_time',\n",
    "  'system_mean_waiting_time',\n",
    "  'system_mean_speed',\n",
    "  't_stopped',\n",
    "  't_accumulated_waiting_time',\n",
    "  't_average_speed',\n",
    "  'agents_total_stopped',\n",
    "  'agents_total_accumulated_waiting_time'\n",
    "]\n",
    "\n",
    "multi_plotter = MultiPlotter(\n",
    "  list(map(lambda agent: {'name': agent.name, 'color': agent.color}, list(agents.values()))),\n",
    "  metrics,\n",
    "  seconds,\n",
    "  1\n",
    ")\n",
    "\n",
    "for agent in agents:\n",
    "  agents[agent].learn(multi_plotter.append)\n",
    "\n",
    "multi_plotter.save()"
   ]
  }
 ],
 "metadata": {
  "kernelspec": {
   "display_name": "base",
   "language": "python",
   "name": "python3"
  },
  "language_info": {
   "codemirror_mode": {
    "name": "ipython",
    "version": 3
   },
   "file_extension": ".py",
   "mimetype": "text/x-python",
   "name": "python",
   "nbconvert_exporter": "python",
   "pygments_lexer": "ipython3",
   "version": "3.9.13"
  },
  "orig_nbformat": 4,
  "vscode": {
   "interpreter": {
    "hash": "e0d86bde9ad9c10c7d1cedfc01809e1f014a5f3435ffaada6125cd9a8e669da3"
   }
  }
 },
 "nbformat": 4,
 "nbformat_minor": 2
}
